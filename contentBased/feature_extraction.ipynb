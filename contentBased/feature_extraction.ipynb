{
 "cells": [
  {
   "metadata": {},
   "cell_type": "markdown",
   "source": "",
   "id": "ddb95a48b92b9cb7"
  },
  {
   "metadata": {
    "ExecuteTime": {
     "end_time": "2025-11-01T13:03:28.785392Z",
     "start_time": "2025-11-01T13:03:28.781450Z"
    }
   },
   "cell_type": "code",
   "source": "import pandas as pd",
   "id": "32acc525022d77d4",
   "outputs": [],
   "execution_count": 108
  },
  {
   "cell_type": "code",
   "id": "initial_id",
   "metadata": {
    "collapsed": true,
    "ExecuteTime": {
     "end_time": "2025-11-01T13:03:29.832079Z",
     "start_time": "2025-11-01T13:03:28.792249Z"
    }
   },
   "source": "df= pd.read_csv(\"/Volumes/SD_Card/hybrid_reccomendations/data/100k_a.csv\", header=0, skiprows=[1,2,3])\n",
   "outputs": [],
   "execution_count": 109
  },
  {
   "metadata": {
    "ExecuteTime": {
     "end_time": "2025-11-01T13:03:29.857533Z",
     "start_time": "2025-11-01T13:03:29.853990Z"
    }
   },
   "cell_type": "code",
   "source": [
    "print(df.head())\n",
    "print(df.columns)"
   ],
   "id": "3d9f10da76040ca0",
   "outputs": [
    {
     "name": "stdout",
     "output_type": "stream",
     "text": [
      "   Unnamed: 0  unnamed  user_id    stream_id streamer_name  time_start  \\\n",
      "0           3      2.0        1  33842865744      mithrain         154   \n",
      "1           4      3.0        1  33846768288         alptv         166   \n",
      "2           5      4.0        1  33886469056      mithrain         587   \n",
      "3           6      5.0        1  33887624992          wtcn         589   \n",
      "4           7      6.0        1  33890145056     jrokezftw         591   \n",
      "\n",
      "   time_stop  \n",
      "0        156  \n",
      "1        169  \n",
      "2        588  \n",
      "3        591  \n",
      "4        594  \n",
      "Index(['Unnamed: 0', 'unnamed', 'user_id', 'stream_id', 'streamer_name',\n",
      "       'time_start', 'time_stop'],\n",
      "      dtype='object')\n"
     ]
    }
   ],
   "execution_count": 110
  },
  {
   "metadata": {
    "ExecuteTime": {
     "end_time": "2025-11-01T13:03:29.922218Z",
     "start_time": "2025-11-01T13:03:29.866276Z"
    }
   },
   "cell_type": "code",
   "source": "df.drop('unnamed', axis=1, inplace=True)\n",
   "id": "850c2cb6d6a55ace",
   "outputs": [],
   "execution_count": 111
  },
  {
   "metadata": {
    "ExecuteTime": {
     "end_time": "2025-11-01T13:03:29.930140Z",
     "start_time": "2025-11-01T13:03:29.927096Z"
    }
   },
   "cell_type": "code",
   "source": "df.columns",
   "id": "a0b119bd2f0a9033",
   "outputs": [
    {
     "data": {
      "text/plain": [
       "Index(['Unnamed: 0', 'user_id', 'stream_id', 'streamer_name', 'time_start',\n",
       "       'time_stop'],\n",
       "      dtype='object')"
      ]
     },
     "execution_count": 112,
     "metadata": {},
     "output_type": "execute_result"
    }
   ],
   "execution_count": 112
  },
  {
   "metadata": {
    "ExecuteTime": {
     "end_time": "2025-11-01T13:03:29.976075Z",
     "start_time": "2025-11-01T13:03:29.937307Z"
    }
   },
   "cell_type": "code",
   "source": "df.drop('Unnamed: 0', axis=1, inplace=True)",
   "id": "c9f1d0f6ff9a4d97",
   "outputs": [],
   "execution_count": 113
  },
  {
   "metadata": {
    "ExecuteTime": {
     "end_time": "2025-11-01T13:03:29.986523Z",
     "start_time": "2025-11-01T13:03:29.983890Z"
    }
   },
   "cell_type": "code",
   "source": "df.columns",
   "id": "5c790482f497a373",
   "outputs": [
    {
     "data": {
      "text/plain": [
       "Index(['user_id', 'stream_id', 'streamer_name', 'time_start', 'time_stop'], dtype='object')"
      ]
     },
     "execution_count": 114,
     "metadata": {},
     "output_type": "execute_result"
    }
   ],
   "execution_count": 114
  },
  {
   "metadata": {
    "ExecuteTime": {
     "end_time": "2025-11-01T13:03:30.009194Z",
     "start_time": "2025-11-01T13:03:29.992128Z"
    }
   },
   "cell_type": "code",
   "source": "df['user_id'].unique().shape",
   "id": "594852cedb431197",
   "outputs": [
    {
     "data": {
      "text/plain": [
       "(100000,)"
      ]
     },
     "execution_count": 115,
     "metadata": {},
     "output_type": "execute_result"
    }
   ],
   "execution_count": 115
  },
  {
   "metadata": {
    "ExecuteTime": {
     "end_time": "2025-11-01T13:03:30.016855Z",
     "start_time": "2025-11-01T13:03:30.013933Z"
    }
   },
   "cell_type": "code",
   "source": "df.shape",
   "id": "29e36071fec6190a",
   "outputs": [
    {
     "data": {
      "text/plain": [
       "(3051733, 5)"
      ]
     },
     "execution_count": 116,
     "metadata": {},
     "output_type": "execute_result"
    }
   ],
   "execution_count": 116
  },
  {
   "metadata": {
    "ExecuteTime": {
     "end_time": "2025-11-01T13:03:30.037795Z",
     "start_time": "2025-11-01T13:03:30.033440Z"
    }
   },
   "cell_type": "code",
   "source": "df.head()",
   "id": "1be7d0ec43b54cd2",
   "outputs": [
    {
     "data": {
      "text/plain": [
       "   user_id    stream_id streamer_name  time_start  time_stop\n",
       "0        1  33842865744      mithrain         154        156\n",
       "1        1  33846768288         alptv         166        169\n",
       "2        1  33886469056      mithrain         587        588\n",
       "3        1  33887624992          wtcn         589        591\n",
       "4        1  33890145056     jrokezftw         591        594"
      ],
      "text/html": [
       "<div>\n",
       "<style scoped>\n",
       "    .dataframe tbody tr th:only-of-type {\n",
       "        vertical-align: middle;\n",
       "    }\n",
       "\n",
       "    .dataframe tbody tr th {\n",
       "        vertical-align: top;\n",
       "    }\n",
       "\n",
       "    .dataframe thead th {\n",
       "        text-align: right;\n",
       "    }\n",
       "</style>\n",
       "<table border=\"1\" class=\"dataframe\">\n",
       "  <thead>\n",
       "    <tr style=\"text-align: right;\">\n",
       "      <th></th>\n",
       "      <th>user_id</th>\n",
       "      <th>stream_id</th>\n",
       "      <th>streamer_name</th>\n",
       "      <th>time_start</th>\n",
       "      <th>time_stop</th>\n",
       "    </tr>\n",
       "  </thead>\n",
       "  <tbody>\n",
       "    <tr>\n",
       "      <th>0</th>\n",
       "      <td>1</td>\n",
       "      <td>33842865744</td>\n",
       "      <td>mithrain</td>\n",
       "      <td>154</td>\n",
       "      <td>156</td>\n",
       "    </tr>\n",
       "    <tr>\n",
       "      <th>1</th>\n",
       "      <td>1</td>\n",
       "      <td>33846768288</td>\n",
       "      <td>alptv</td>\n",
       "      <td>166</td>\n",
       "      <td>169</td>\n",
       "    </tr>\n",
       "    <tr>\n",
       "      <th>2</th>\n",
       "      <td>1</td>\n",
       "      <td>33886469056</td>\n",
       "      <td>mithrain</td>\n",
       "      <td>587</td>\n",
       "      <td>588</td>\n",
       "    </tr>\n",
       "    <tr>\n",
       "      <th>3</th>\n",
       "      <td>1</td>\n",
       "      <td>33887624992</td>\n",
       "      <td>wtcn</td>\n",
       "      <td>589</td>\n",
       "      <td>591</td>\n",
       "    </tr>\n",
       "    <tr>\n",
       "      <th>4</th>\n",
       "      <td>1</td>\n",
       "      <td>33890145056</td>\n",
       "      <td>jrokezftw</td>\n",
       "      <td>591</td>\n",
       "      <td>594</td>\n",
       "    </tr>\n",
       "  </tbody>\n",
       "</table>\n",
       "</div>"
      ]
     },
     "execution_count": 117,
     "metadata": {},
     "output_type": "execute_result"
    }
   ],
   "execution_count": 117
  },
  {
   "metadata": {
    "ExecuteTime": {
     "end_time": "2025-11-01T13:03:30.200131Z",
     "start_time": "2025-11-01T13:03:30.075458Z"
    }
   },
   "cell_type": "code",
   "source": "df['stream_id'].unique().shape",
   "id": "425aebaf3e399ce4",
   "outputs": [
    {
     "data": {
      "text/plain": [
       "(739991,)"
      ]
     },
     "execution_count": 118,
     "metadata": {},
     "output_type": "execute_result"
    }
   ],
   "execution_count": 118
  },
  {
   "metadata": {
    "ExecuteTime": {
     "end_time": "2025-11-01T13:03:30.375352Z",
     "start_time": "2025-11-01T13:03:30.228210Z"
    }
   },
   "cell_type": "code",
   "source": "df['streamer_name'].unique().shape",
   "id": "f2d2b6a9687648c7",
   "outputs": [
    {
     "data": {
      "text/plain": [
       "(162625,)"
      ]
     },
     "execution_count": 119,
     "metadata": {},
     "output_type": "execute_result"
    }
   ],
   "execution_count": 119
  },
  {
   "metadata": {
    "ExecuteTime": {
     "end_time": "2025-11-01T13:03:30.386782Z",
     "start_time": "2025-11-01T13:03:30.379635Z"
    }
   },
   "cell_type": "code",
   "source": "df['streamSession_id']=df['stream_id']",
   "id": "fbb14b6fa64cc5cb",
   "outputs": [],
   "execution_count": 120
  },
  {
   "metadata": {
    "ExecuteTime": {
     "end_time": "2025-11-01T13:03:30.399926Z",
     "start_time": "2025-11-01T13:03:30.395499Z"
    }
   },
   "cell_type": "code",
   "source": "df.head()",
   "id": "22762f5668ab19b6",
   "outputs": [
    {
     "data": {
      "text/plain": [
       "   user_id    stream_id streamer_name  time_start  time_stop  streamSession_id\n",
       "0        1  33842865744      mithrain         154        156       33842865744\n",
       "1        1  33846768288         alptv         166        169       33846768288\n",
       "2        1  33886469056      mithrain         587        588       33886469056\n",
       "3        1  33887624992          wtcn         589        591       33887624992\n",
       "4        1  33890145056     jrokezftw         591        594       33890145056"
      ],
      "text/html": [
       "<div>\n",
       "<style scoped>\n",
       "    .dataframe tbody tr th:only-of-type {\n",
       "        vertical-align: middle;\n",
       "    }\n",
       "\n",
       "    .dataframe tbody tr th {\n",
       "        vertical-align: top;\n",
       "    }\n",
       "\n",
       "    .dataframe thead th {\n",
       "        text-align: right;\n",
       "    }\n",
       "</style>\n",
       "<table border=\"1\" class=\"dataframe\">\n",
       "  <thead>\n",
       "    <tr style=\"text-align: right;\">\n",
       "      <th></th>\n",
       "      <th>user_id</th>\n",
       "      <th>stream_id</th>\n",
       "      <th>streamer_name</th>\n",
       "      <th>time_start</th>\n",
       "      <th>time_stop</th>\n",
       "      <th>streamSession_id</th>\n",
       "    </tr>\n",
       "  </thead>\n",
       "  <tbody>\n",
       "    <tr>\n",
       "      <th>0</th>\n",
       "      <td>1</td>\n",
       "      <td>33842865744</td>\n",
       "      <td>mithrain</td>\n",
       "      <td>154</td>\n",
       "      <td>156</td>\n",
       "      <td>33842865744</td>\n",
       "    </tr>\n",
       "    <tr>\n",
       "      <th>1</th>\n",
       "      <td>1</td>\n",
       "      <td>33846768288</td>\n",
       "      <td>alptv</td>\n",
       "      <td>166</td>\n",
       "      <td>169</td>\n",
       "      <td>33846768288</td>\n",
       "    </tr>\n",
       "    <tr>\n",
       "      <th>2</th>\n",
       "      <td>1</td>\n",
       "      <td>33886469056</td>\n",
       "      <td>mithrain</td>\n",
       "      <td>587</td>\n",
       "      <td>588</td>\n",
       "      <td>33886469056</td>\n",
       "    </tr>\n",
       "    <tr>\n",
       "      <th>3</th>\n",
       "      <td>1</td>\n",
       "      <td>33887624992</td>\n",
       "      <td>wtcn</td>\n",
       "      <td>589</td>\n",
       "      <td>591</td>\n",
       "      <td>33887624992</td>\n",
       "    </tr>\n",
       "    <tr>\n",
       "      <th>4</th>\n",
       "      <td>1</td>\n",
       "      <td>33890145056</td>\n",
       "      <td>jrokezftw</td>\n",
       "      <td>591</td>\n",
       "      <td>594</td>\n",
       "      <td>33890145056</td>\n",
       "    </tr>\n",
       "  </tbody>\n",
       "</table>\n",
       "</div>"
      ]
     },
     "execution_count": 121,
     "metadata": {},
     "output_type": "execute_result"
    }
   ],
   "execution_count": 121
  },
  {
   "metadata": {
    "ExecuteTime": {
     "end_time": "2025-11-01T13:03:30.708403Z",
     "start_time": "2025-11-01T13:03:30.662250Z"
    }
   },
   "cell_type": "code",
   "source": "df.drop('stream_id', axis=1, inplace=True)",
   "id": "d6306593b96b2124",
   "outputs": [],
   "execution_count": 122
  },
  {
   "metadata": {
    "ExecuteTime": {
     "end_time": "2025-11-01T13:03:30.741390Z",
     "start_time": "2025-11-01T13:03:30.736681Z"
    }
   },
   "cell_type": "code",
   "source": "df.head()",
   "id": "2b4fd94bcc1484e7",
   "outputs": [
    {
     "data": {
      "text/plain": [
       "   user_id streamer_name  time_start  time_stop  streamSession_id\n",
       "0        1      mithrain         154        156       33842865744\n",
       "1        1         alptv         166        169       33846768288\n",
       "2        1      mithrain         587        588       33886469056\n",
       "3        1          wtcn         589        591       33887624992\n",
       "4        1     jrokezftw         591        594       33890145056"
      ],
      "text/html": [
       "<div>\n",
       "<style scoped>\n",
       "    .dataframe tbody tr th:only-of-type {\n",
       "        vertical-align: middle;\n",
       "    }\n",
       "\n",
       "    .dataframe tbody tr th {\n",
       "        vertical-align: top;\n",
       "    }\n",
       "\n",
       "    .dataframe thead th {\n",
       "        text-align: right;\n",
       "    }\n",
       "</style>\n",
       "<table border=\"1\" class=\"dataframe\">\n",
       "  <thead>\n",
       "    <tr style=\"text-align: right;\">\n",
       "      <th></th>\n",
       "      <th>user_id</th>\n",
       "      <th>streamer_name</th>\n",
       "      <th>time_start</th>\n",
       "      <th>time_stop</th>\n",
       "      <th>streamSession_id</th>\n",
       "    </tr>\n",
       "  </thead>\n",
       "  <tbody>\n",
       "    <tr>\n",
       "      <th>0</th>\n",
       "      <td>1</td>\n",
       "      <td>mithrain</td>\n",
       "      <td>154</td>\n",
       "      <td>156</td>\n",
       "      <td>33842865744</td>\n",
       "    </tr>\n",
       "    <tr>\n",
       "      <th>1</th>\n",
       "      <td>1</td>\n",
       "      <td>alptv</td>\n",
       "      <td>166</td>\n",
       "      <td>169</td>\n",
       "      <td>33846768288</td>\n",
       "    </tr>\n",
       "    <tr>\n",
       "      <th>2</th>\n",
       "      <td>1</td>\n",
       "      <td>mithrain</td>\n",
       "      <td>587</td>\n",
       "      <td>588</td>\n",
       "      <td>33886469056</td>\n",
       "    </tr>\n",
       "    <tr>\n",
       "      <th>3</th>\n",
       "      <td>1</td>\n",
       "      <td>wtcn</td>\n",
       "      <td>589</td>\n",
       "      <td>591</td>\n",
       "      <td>33887624992</td>\n",
       "    </tr>\n",
       "    <tr>\n",
       "      <th>4</th>\n",
       "      <td>1</td>\n",
       "      <td>jrokezftw</td>\n",
       "      <td>591</td>\n",
       "      <td>594</td>\n",
       "      <td>33890145056</td>\n",
       "    </tr>\n",
       "  </tbody>\n",
       "</table>\n",
       "</div>"
      ]
     },
     "execution_count": 123,
     "metadata": {},
     "output_type": "execute_result"
    }
   ],
   "execution_count": 123
  },
  {
   "metadata": {
    "ExecuteTime": {
     "end_time": "2025-11-01T13:03:30.798036Z",
     "start_time": "2025-11-01T13:03:30.776553Z"
    }
   },
   "cell_type": "code",
   "source": "df['duration_minutes'] = (df['time_stop'] - df['time_start'])*10",
   "id": "57ef6130cadb0c73",
   "outputs": [],
   "execution_count": 124
  },
  {
   "metadata": {
    "ExecuteTime": {
     "end_time": "2025-11-01T13:03:30.951787Z",
     "start_time": "2025-11-01T13:03:30.938365Z"
    }
   },
   "cell_type": "code",
   "source": "df",
   "id": "f41de696ed55aa9e",
   "outputs": [
    {
     "data": {
      "text/plain": [
       "         user_id   streamer_name  time_start  time_stop  streamSession_id  \\\n",
       "0              1        mithrain         154        156       33842865744   \n",
       "1              1           alptv         166        169       33846768288   \n",
       "2              1        mithrain         587        588       33886469056   \n",
       "3              1            wtcn         589        591       33887624992   \n",
       "4              1       jrokezftw         591        594       33890145056   \n",
       "...          ...             ...         ...        ...               ...   \n",
       "3051728   100000          mckytv        3582       3583       34167930576   \n",
       "3051729   100000        natehill        3582       3583       34168288656   \n",
       "3051730   100000        fortnite        3582       3584       34169594512   \n",
       "3051731   100000  highdistortion        3709       3711       34180223072   \n",
       "3051732   100000        symfuhny        3706       3708       34181187808   \n",
       "\n",
       "         duration_minutes  \n",
       "0                      20  \n",
       "1                      30  \n",
       "2                      10  \n",
       "3                      20  \n",
       "4                      30  \n",
       "...                   ...  \n",
       "3051728                10  \n",
       "3051729                10  \n",
       "3051730                20  \n",
       "3051731                20  \n",
       "3051732                20  \n",
       "\n",
       "[3051733 rows x 6 columns]"
      ],
      "text/html": [
       "<div>\n",
       "<style scoped>\n",
       "    .dataframe tbody tr th:only-of-type {\n",
       "        vertical-align: middle;\n",
       "    }\n",
       "\n",
       "    .dataframe tbody tr th {\n",
       "        vertical-align: top;\n",
       "    }\n",
       "\n",
       "    .dataframe thead th {\n",
       "        text-align: right;\n",
       "    }\n",
       "</style>\n",
       "<table border=\"1\" class=\"dataframe\">\n",
       "  <thead>\n",
       "    <tr style=\"text-align: right;\">\n",
       "      <th></th>\n",
       "      <th>user_id</th>\n",
       "      <th>streamer_name</th>\n",
       "      <th>time_start</th>\n",
       "      <th>time_stop</th>\n",
       "      <th>streamSession_id</th>\n",
       "      <th>duration_minutes</th>\n",
       "    </tr>\n",
       "  </thead>\n",
       "  <tbody>\n",
       "    <tr>\n",
       "      <th>0</th>\n",
       "      <td>1</td>\n",
       "      <td>mithrain</td>\n",
       "      <td>154</td>\n",
       "      <td>156</td>\n",
       "      <td>33842865744</td>\n",
       "      <td>20</td>\n",
       "    </tr>\n",
       "    <tr>\n",
       "      <th>1</th>\n",
       "      <td>1</td>\n",
       "      <td>alptv</td>\n",
       "      <td>166</td>\n",
       "      <td>169</td>\n",
       "      <td>33846768288</td>\n",
       "      <td>30</td>\n",
       "    </tr>\n",
       "    <tr>\n",
       "      <th>2</th>\n",
       "      <td>1</td>\n",
       "      <td>mithrain</td>\n",
       "      <td>587</td>\n",
       "      <td>588</td>\n",
       "      <td>33886469056</td>\n",
       "      <td>10</td>\n",
       "    </tr>\n",
       "    <tr>\n",
       "      <th>3</th>\n",
       "      <td>1</td>\n",
       "      <td>wtcn</td>\n",
       "      <td>589</td>\n",
       "      <td>591</td>\n",
       "      <td>33887624992</td>\n",
       "      <td>20</td>\n",
       "    </tr>\n",
       "    <tr>\n",
       "      <th>4</th>\n",
       "      <td>1</td>\n",
       "      <td>jrokezftw</td>\n",
       "      <td>591</td>\n",
       "      <td>594</td>\n",
       "      <td>33890145056</td>\n",
       "      <td>30</td>\n",
       "    </tr>\n",
       "    <tr>\n",
       "      <th>...</th>\n",
       "      <td>...</td>\n",
       "      <td>...</td>\n",
       "      <td>...</td>\n",
       "      <td>...</td>\n",
       "      <td>...</td>\n",
       "      <td>...</td>\n",
       "    </tr>\n",
       "    <tr>\n",
       "      <th>3051728</th>\n",
       "      <td>100000</td>\n",
       "      <td>mckytv</td>\n",
       "      <td>3582</td>\n",
       "      <td>3583</td>\n",
       "      <td>34167930576</td>\n",
       "      <td>10</td>\n",
       "    </tr>\n",
       "    <tr>\n",
       "      <th>3051729</th>\n",
       "      <td>100000</td>\n",
       "      <td>natehill</td>\n",
       "      <td>3582</td>\n",
       "      <td>3583</td>\n",
       "      <td>34168288656</td>\n",
       "      <td>10</td>\n",
       "    </tr>\n",
       "    <tr>\n",
       "      <th>3051730</th>\n",
       "      <td>100000</td>\n",
       "      <td>fortnite</td>\n",
       "      <td>3582</td>\n",
       "      <td>3584</td>\n",
       "      <td>34169594512</td>\n",
       "      <td>20</td>\n",
       "    </tr>\n",
       "    <tr>\n",
       "      <th>3051731</th>\n",
       "      <td>100000</td>\n",
       "      <td>highdistortion</td>\n",
       "      <td>3709</td>\n",
       "      <td>3711</td>\n",
       "      <td>34180223072</td>\n",
       "      <td>20</td>\n",
       "    </tr>\n",
       "    <tr>\n",
       "      <th>3051732</th>\n",
       "      <td>100000</td>\n",
       "      <td>symfuhny</td>\n",
       "      <td>3706</td>\n",
       "      <td>3708</td>\n",
       "      <td>34181187808</td>\n",
       "      <td>20</td>\n",
       "    </tr>\n",
       "  </tbody>\n",
       "</table>\n",
       "<p>3051733 rows × 6 columns</p>\n",
       "</div>"
      ]
     },
     "execution_count": 125,
     "metadata": {},
     "output_type": "execute_result"
    }
   ],
   "execution_count": 125
  },
  {
   "metadata": {},
   "cell_type": "markdown",
   "source": [
    "Each 10 minutes is set to interval of 1,\n",
    "so duration in minutes is calculated as (time_stop - time_start)*10\n",
    "Number of intervals/ hour is 6 ---> / day is 6 multiplied to 24(144) ---> / week is 6 multiplied to 24 multiplied to 7 ---> / month is 6 multiplied to 24 multiplied to 30\n"
   ],
   "id": "4874ec67ab2eacee"
  },
  {
   "metadata": {},
   "cell_type": "markdown",
   "source": [
    "0-143->Day1,\n",
    "143-287->Day2,\n",
    "287-431->Day3,\n",
    "431-575->Day4,\n",
    "575-719->Day5,-------> 43 days"
   ],
   "id": "364ebcdd1adfa8b6"
  },
  {
   "metadata": {
    "ExecuteTime": {
     "end_time": "2025-11-01T13:03:32.743243Z",
     "start_time": "2025-11-01T13:03:30.997189Z"
    }
   },
   "cell_type": "code",
   "source": [
    "intervals=(6*24)\n",
    "df['day'] = (df['time_start']//intervals)\n",
    "total_minutes = (df['time_start'] % intervals)*10\n",
    "hours = (total_minutes // 60).astype(int)\n",
    "minutes = (total_minutes % 60).astype(int)\n",
    "\n",
    "# Format as an HH:MM string with leading zeros\n",
    "df['starting_time_of_day_in_HH_MM'] = hours.astype(str).str.zfill(2) + ':' + minutes.astype(str).str.zfill(2)\n",
    "print(df)\n"
   ],
   "id": "2ba0d6cc6cebdb9f",
   "outputs": [
    {
     "name": "stdout",
     "output_type": "stream",
     "text": [
      "         user_id   streamer_name  time_start  time_stop  streamSession_id  \\\n",
      "0              1        mithrain         154        156       33842865744   \n",
      "1              1           alptv         166        169       33846768288   \n",
      "2              1        mithrain         587        588       33886469056   \n",
      "3              1            wtcn         589        591       33887624992   \n",
      "4              1       jrokezftw         591        594       33890145056   \n",
      "...          ...             ...         ...        ...               ...   \n",
      "3051728   100000          mckytv        3582       3583       34167930576   \n",
      "3051729   100000        natehill        3582       3583       34168288656   \n",
      "3051730   100000        fortnite        3582       3584       34169594512   \n",
      "3051731   100000  highdistortion        3709       3711       34180223072   \n",
      "3051732   100000        symfuhny        3706       3708       34181187808   \n",
      "\n",
      "         duration_minutes  day starting_time_of_day_in_HH_MM  \n",
      "0                      20    1                         01:40  \n",
      "1                      30    1                         03:40  \n",
      "2                      10    4                         01:50  \n",
      "3                      20    4                         02:10  \n",
      "4                      30    4                         02:30  \n",
      "...                   ...  ...                           ...  \n",
      "3051728                10   24                         21:00  \n",
      "3051729                10   24                         21:00  \n",
      "3051730                20   24                         21:00  \n",
      "3051731                20   25                         18:10  \n",
      "3051732                20   25                         17:40  \n",
      "\n",
      "[3051733 rows x 8 columns]\n"
     ]
    }
   ],
   "execution_count": 126
  },
  {
   "metadata": {
    "ExecuteTime": {
     "end_time": "2025-11-01T13:03:32.870693Z",
     "start_time": "2025-11-01T13:03:32.865576Z"
    }
   },
   "cell_type": "code",
   "source": "df",
   "id": "afbd3abaa9fc666f",
   "outputs": [
    {
     "data": {
      "text/plain": [
       "         user_id   streamer_name  time_start  time_stop  streamSession_id  \\\n",
       "0              1        mithrain         154        156       33842865744   \n",
       "1              1           alptv         166        169       33846768288   \n",
       "2              1        mithrain         587        588       33886469056   \n",
       "3              1            wtcn         589        591       33887624992   \n",
       "4              1       jrokezftw         591        594       33890145056   \n",
       "...          ...             ...         ...        ...               ...   \n",
       "3051728   100000          mckytv        3582       3583       34167930576   \n",
       "3051729   100000        natehill        3582       3583       34168288656   \n",
       "3051730   100000        fortnite        3582       3584       34169594512   \n",
       "3051731   100000  highdistortion        3709       3711       34180223072   \n",
       "3051732   100000        symfuhny        3706       3708       34181187808   \n",
       "\n",
       "         duration_minutes  day starting_time_of_day_in_HH_MM  \n",
       "0                      20    1                         01:40  \n",
       "1                      30    1                         03:40  \n",
       "2                      10    4                         01:50  \n",
       "3                      20    4                         02:10  \n",
       "4                      30    4                         02:30  \n",
       "...                   ...  ...                           ...  \n",
       "3051728                10   24                         21:00  \n",
       "3051729                10   24                         21:00  \n",
       "3051730                20   24                         21:00  \n",
       "3051731                20   25                         18:10  \n",
       "3051732                20   25                         17:40  \n",
       "\n",
       "[3051733 rows x 8 columns]"
      ],
      "text/html": [
       "<div>\n",
       "<style scoped>\n",
       "    .dataframe tbody tr th:only-of-type {\n",
       "        vertical-align: middle;\n",
       "    }\n",
       "\n",
       "    .dataframe tbody tr th {\n",
       "        vertical-align: top;\n",
       "    }\n",
       "\n",
       "    .dataframe thead th {\n",
       "        text-align: right;\n",
       "    }\n",
       "</style>\n",
       "<table border=\"1\" class=\"dataframe\">\n",
       "  <thead>\n",
       "    <tr style=\"text-align: right;\">\n",
       "      <th></th>\n",
       "      <th>user_id</th>\n",
       "      <th>streamer_name</th>\n",
       "      <th>time_start</th>\n",
       "      <th>time_stop</th>\n",
       "      <th>streamSession_id</th>\n",
       "      <th>duration_minutes</th>\n",
       "      <th>day</th>\n",
       "      <th>starting_time_of_day_in_HH_MM</th>\n",
       "    </tr>\n",
       "  </thead>\n",
       "  <tbody>\n",
       "    <tr>\n",
       "      <th>0</th>\n",
       "      <td>1</td>\n",
       "      <td>mithrain</td>\n",
       "      <td>154</td>\n",
       "      <td>156</td>\n",
       "      <td>33842865744</td>\n",
       "      <td>20</td>\n",
       "      <td>1</td>\n",
       "      <td>01:40</td>\n",
       "    </tr>\n",
       "    <tr>\n",
       "      <th>1</th>\n",
       "      <td>1</td>\n",
       "      <td>alptv</td>\n",
       "      <td>166</td>\n",
       "      <td>169</td>\n",
       "      <td>33846768288</td>\n",
       "      <td>30</td>\n",
       "      <td>1</td>\n",
       "      <td>03:40</td>\n",
       "    </tr>\n",
       "    <tr>\n",
       "      <th>2</th>\n",
       "      <td>1</td>\n",
       "      <td>mithrain</td>\n",
       "      <td>587</td>\n",
       "      <td>588</td>\n",
       "      <td>33886469056</td>\n",
       "      <td>10</td>\n",
       "      <td>4</td>\n",
       "      <td>01:50</td>\n",
       "    </tr>\n",
       "    <tr>\n",
       "      <th>3</th>\n",
       "      <td>1</td>\n",
       "      <td>wtcn</td>\n",
       "      <td>589</td>\n",
       "      <td>591</td>\n",
       "      <td>33887624992</td>\n",
       "      <td>20</td>\n",
       "      <td>4</td>\n",
       "      <td>02:10</td>\n",
       "    </tr>\n",
       "    <tr>\n",
       "      <th>4</th>\n",
       "      <td>1</td>\n",
       "      <td>jrokezftw</td>\n",
       "      <td>591</td>\n",
       "      <td>594</td>\n",
       "      <td>33890145056</td>\n",
       "      <td>30</td>\n",
       "      <td>4</td>\n",
       "      <td>02:30</td>\n",
       "    </tr>\n",
       "    <tr>\n",
       "      <th>...</th>\n",
       "      <td>...</td>\n",
       "      <td>...</td>\n",
       "      <td>...</td>\n",
       "      <td>...</td>\n",
       "      <td>...</td>\n",
       "      <td>...</td>\n",
       "      <td>...</td>\n",
       "      <td>...</td>\n",
       "    </tr>\n",
       "    <tr>\n",
       "      <th>3051728</th>\n",
       "      <td>100000</td>\n",
       "      <td>mckytv</td>\n",
       "      <td>3582</td>\n",
       "      <td>3583</td>\n",
       "      <td>34167930576</td>\n",
       "      <td>10</td>\n",
       "      <td>24</td>\n",
       "      <td>21:00</td>\n",
       "    </tr>\n",
       "    <tr>\n",
       "      <th>3051729</th>\n",
       "      <td>100000</td>\n",
       "      <td>natehill</td>\n",
       "      <td>3582</td>\n",
       "      <td>3583</td>\n",
       "      <td>34168288656</td>\n",
       "      <td>10</td>\n",
       "      <td>24</td>\n",
       "      <td>21:00</td>\n",
       "    </tr>\n",
       "    <tr>\n",
       "      <th>3051730</th>\n",
       "      <td>100000</td>\n",
       "      <td>fortnite</td>\n",
       "      <td>3582</td>\n",
       "      <td>3584</td>\n",
       "      <td>34169594512</td>\n",
       "      <td>20</td>\n",
       "      <td>24</td>\n",
       "      <td>21:00</td>\n",
       "    </tr>\n",
       "    <tr>\n",
       "      <th>3051731</th>\n",
       "      <td>100000</td>\n",
       "      <td>highdistortion</td>\n",
       "      <td>3709</td>\n",
       "      <td>3711</td>\n",
       "      <td>34180223072</td>\n",
       "      <td>20</td>\n",
       "      <td>25</td>\n",
       "      <td>18:10</td>\n",
       "    </tr>\n",
       "    <tr>\n",
       "      <th>3051732</th>\n",
       "      <td>100000</td>\n",
       "      <td>symfuhny</td>\n",
       "      <td>3706</td>\n",
       "      <td>3708</td>\n",
       "      <td>34181187808</td>\n",
       "      <td>20</td>\n",
       "      <td>25</td>\n",
       "      <td>17:40</td>\n",
       "    </tr>\n",
       "  </tbody>\n",
       "</table>\n",
       "<p>3051733 rows × 8 columns</p>\n",
       "</div>"
      ]
     },
     "execution_count": 127,
     "metadata": {},
     "output_type": "execute_result"
    }
   ],
   "execution_count": 127
  },
  {
   "metadata": {
    "ExecuteTime": {
     "end_time": "2025-11-01T13:07:38.767469Z",
     "start_time": "2025-11-01T13:07:38.742664Z"
    }
   },
   "cell_type": "code",
   "source": "df.columns",
   "id": "d2e297d9da1ad106",
   "outputs": [
    {
     "data": {
      "text/plain": [
       "Index(['user_id', 'streamer_name', 'time_start', 'time_stop',\n",
       "       'streamSession_id', 'duration_minutes', 'day',\n",
       "       'starting_time_of_day_in_HH_MM'],\n",
       "      dtype='object')"
      ]
     },
     "execution_count": 128,
     "metadata": {},
     "output_type": "execute_result"
    }
   ],
   "execution_count": 128
  },
  {
   "metadata": {
    "ExecuteTime": {
     "end_time": "2025-11-01T13:28:49.097178Z",
     "start_time": "2025-11-01T13:28:45.565413Z"
    }
   },
   "cell_type": "code",
   "source": [
    "streamer_features = df.groupby(\"streamer_name\").agg(\n",
    "    streamer_duration = (\"duration_minutes\", \"sum\"),\n",
    "    streaming_average_duration = (\"duration_minutes\", \"mean\"),\n",
    "    streamer_unique_streams = (\"streamSession_id\", \"nunique\"),\n",
    "    streamer_unique_viewers = (\"user_id\", \"nunique\"),\n",
    "    day = (\"day\", lambda X:X.max() - X.min()+1)\n",
    ")"
   ],
   "id": "7e4cdce9fdcb29ee",
   "outputs": [],
   "execution_count": 134
  },
  {
   "metadata": {
    "ExecuteTime": {
     "end_time": "2025-11-01T13:28:49.129976Z",
     "start_time": "2025-11-01T13:28:49.122118Z"
    }
   },
   "cell_type": "code",
   "source": "streamer_features",
   "id": "af84e4b3ecae2c78",
   "outputs": [
    {
     "data": {
      "text/plain": [
       "                   streamer_duration  streaming_average_duration  \\\n",
       "streamer_name                                                      \n",
       "0007_hot_kelly_tv                 20                   10.000000   \n",
       "000aikia000                       10                   10.000000   \n",
       "0011am                            80                   80.000000   \n",
       "001_ssmashh_100                   50                   16.666667   \n",
       "001live                           10                   10.000000   \n",
       "...                              ...                         ...   \n",
       "zzztantrikazzz                   200                   15.384615   \n",
       "zzzz1123x2018                    300                   20.000000   \n",
       "zzzz758                           40                   20.000000   \n",
       "zzzzydh                           10                   10.000000   \n",
       "zzzzzzzach                       140                   23.333333   \n",
       "\n",
       "                   streamer_unique_streams  streamer_unique_viewers  day  \n",
       "streamer_name                                                             \n",
       "0007_hot_kelly_tv                        2                        2    3  \n",
       "000aikia000                              1                        1    1  \n",
       "0011am                                   1                        1    1  \n",
       "001_ssmashh_100                          3                        1    2  \n",
       "001live                                  1                        1    1  \n",
       "...                                    ...                      ...  ...  \n",
       "zzztantrikazzz                          10                        5   39  \n",
       "zzzz1123x2018                           13                        8   37  \n",
       "zzzz758                                  2                        1    2  \n",
       "zzzzydh                                  1                        1    1  \n",
       "zzzzzzzach                               5                        2   29  \n",
       "\n",
       "[162625 rows x 5 columns]"
      ],
      "text/html": [
       "<div>\n",
       "<style scoped>\n",
       "    .dataframe tbody tr th:only-of-type {\n",
       "        vertical-align: middle;\n",
       "    }\n",
       "\n",
       "    .dataframe tbody tr th {\n",
       "        vertical-align: top;\n",
       "    }\n",
       "\n",
       "    .dataframe thead th {\n",
       "        text-align: right;\n",
       "    }\n",
       "</style>\n",
       "<table border=\"1\" class=\"dataframe\">\n",
       "  <thead>\n",
       "    <tr style=\"text-align: right;\">\n",
       "      <th></th>\n",
       "      <th>streamer_duration</th>\n",
       "      <th>streaming_average_duration</th>\n",
       "      <th>streamer_unique_streams</th>\n",
       "      <th>streamer_unique_viewers</th>\n",
       "      <th>day</th>\n",
       "    </tr>\n",
       "    <tr>\n",
       "      <th>streamer_name</th>\n",
       "      <th></th>\n",
       "      <th></th>\n",
       "      <th></th>\n",
       "      <th></th>\n",
       "      <th></th>\n",
       "    </tr>\n",
       "  </thead>\n",
       "  <tbody>\n",
       "    <tr>\n",
       "      <th>0007_hot_kelly_tv</th>\n",
       "      <td>20</td>\n",
       "      <td>10.000000</td>\n",
       "      <td>2</td>\n",
       "      <td>2</td>\n",
       "      <td>3</td>\n",
       "    </tr>\n",
       "    <tr>\n",
       "      <th>000aikia000</th>\n",
       "      <td>10</td>\n",
       "      <td>10.000000</td>\n",
       "      <td>1</td>\n",
       "      <td>1</td>\n",
       "      <td>1</td>\n",
       "    </tr>\n",
       "    <tr>\n",
       "      <th>0011am</th>\n",
       "      <td>80</td>\n",
       "      <td>80.000000</td>\n",
       "      <td>1</td>\n",
       "      <td>1</td>\n",
       "      <td>1</td>\n",
       "    </tr>\n",
       "    <tr>\n",
       "      <th>001_ssmashh_100</th>\n",
       "      <td>50</td>\n",
       "      <td>16.666667</td>\n",
       "      <td>3</td>\n",
       "      <td>1</td>\n",
       "      <td>2</td>\n",
       "    </tr>\n",
       "    <tr>\n",
       "      <th>001live</th>\n",
       "      <td>10</td>\n",
       "      <td>10.000000</td>\n",
       "      <td>1</td>\n",
       "      <td>1</td>\n",
       "      <td>1</td>\n",
       "    </tr>\n",
       "    <tr>\n",
       "      <th>...</th>\n",
       "      <td>...</td>\n",
       "      <td>...</td>\n",
       "      <td>...</td>\n",
       "      <td>...</td>\n",
       "      <td>...</td>\n",
       "    </tr>\n",
       "    <tr>\n",
       "      <th>zzztantrikazzz</th>\n",
       "      <td>200</td>\n",
       "      <td>15.384615</td>\n",
       "      <td>10</td>\n",
       "      <td>5</td>\n",
       "      <td>39</td>\n",
       "    </tr>\n",
       "    <tr>\n",
       "      <th>zzzz1123x2018</th>\n",
       "      <td>300</td>\n",
       "      <td>20.000000</td>\n",
       "      <td>13</td>\n",
       "      <td>8</td>\n",
       "      <td>37</td>\n",
       "    </tr>\n",
       "    <tr>\n",
       "      <th>zzzz758</th>\n",
       "      <td>40</td>\n",
       "      <td>20.000000</td>\n",
       "      <td>2</td>\n",
       "      <td>1</td>\n",
       "      <td>2</td>\n",
       "    </tr>\n",
       "    <tr>\n",
       "      <th>zzzzydh</th>\n",
       "      <td>10</td>\n",
       "      <td>10.000000</td>\n",
       "      <td>1</td>\n",
       "      <td>1</td>\n",
       "      <td>1</td>\n",
       "    </tr>\n",
       "    <tr>\n",
       "      <th>zzzzzzzach</th>\n",
       "      <td>140</td>\n",
       "      <td>23.333333</td>\n",
       "      <td>5</td>\n",
       "      <td>2</td>\n",
       "      <td>29</td>\n",
       "    </tr>\n",
       "  </tbody>\n",
       "</table>\n",
       "<p>162625 rows × 5 columns</p>\n",
       "</div>"
      ]
     },
     "execution_count": 135,
     "metadata": {},
     "output_type": "execute_result"
    }
   ],
   "execution_count": 135
  },
  {
   "metadata": {},
   "cell_type": "code",
   "outputs": [],
   "execution_count": null,
   "source": "",
   "id": "474325430b1dcf9a"
  }
 ],
 "metadata": {
  "kernelspec": {
   "display_name": "Python 3",
   "language": "python",
   "name": "python3"
  },
  "language_info": {
   "codemirror_mode": {
    "name": "ipython",
    "version": 2
   },
   "file_extension": ".py",
   "mimetype": "text/x-python",
   "name": "python",
   "nbconvert_exporter": "python",
   "pygments_lexer": "ipython2",
   "version": "2.7.6"
  }
 },
 "nbformat": 4,
 "nbformat_minor": 5
}
